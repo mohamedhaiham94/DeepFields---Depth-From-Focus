{
 "cells": [
  {
   "cell_type": "code",
   "execution_count": 5,
   "metadata": {},
   "outputs": [],
   "source": [
    "import pandas as pd\n",
    "import numpy as np\n",
    "import os\n",
    "from sklearn.utils import resample\n",
    "from sklearn.model_selection import train_test_split\n",
    "import joblib\n",
    "import cv2\n",
    "from sklearn.preprocessing import StandardScaler"
   ]
  },
  {
   "cell_type": "code",
   "execution_count": 23,
   "metadata": {},
   "outputs": [],
   "source": [
    "def data_loader(sampling, image_num):\n",
    "    \"\"\"_summary_\n",
    "\n",
    "    Args:\n",
    "        image_num (int): image number to load the corresponding csv file\n",
    "        distance (float): filter out distance\n",
    "        features (list): list of features \n",
    "    \"\"\"\n",
    "    data = pd.read_csv(f'../data/processed/{sampling}/max/STD/Image_{image_num}_max_STD.csv')\n",
    "    # entropy = pd.read_csv(f'../data/processed/{sampling}/max/Entropy/Image_{image_num}_max_Entropy.csv')\n",
    "    depth = pd.read_csv(f'../data/processed/{sampling}/max/STD/Image_{image_num}_max_STD.csv')\n",
    "    \n",
    "    new_df = pd.DataFrame()\n",
    "\n",
    "    new_df['max_STD'] = data['max_STD']\n",
    "    # new_df['max_Entropy'] = entropy['max_Entropy']\n",
    "    new_df['depth_value'] = depth['depth_value'] \n",
    "    new_df['x'] = depth['x'] \n",
    "    new_df['y'] = depth['y'] \n",
    "    new_df['avg_value'] = depth['avg_value'] \n",
    "    new_df[\"label\"] = new_df['depth_value']\n",
    "\n",
    "    max_labels = new_df[new_df.label == 0]\n",
    "    min_labels = new_df[new_df.label == 1]\n",
    "\n",
    "    max_down = resample(max_labels,\n",
    "                        replace=False,\n",
    "                        n_samples=len(min_labels),     # match minority\n",
    "                        random_state=42)\n",
    "\n",
    "    df_balanced = pd.concat([max_down, min_labels])\n",
    "        \n",
    "    X = df_balanced\n",
    "    y = df_balanced['label']\n",
    "    \n",
    "    return X, y"
   ]
  },
  {
   "cell_type": "code",
   "execution_count": null,
   "metadata": {},
   "outputs": [],
   "source": [
    "DIR = \"out\"\n",
    "SAMPLING = \"TopDown\"\n",
    "# IMAGE_NUM = 5\n",
    "\n",
    "# TopDown (Done): \n",
    "#          3CM , 5CM, 0.009CM\n",
    "#          STD, Entropy, (Std, Entropy)\n",
    "\n",
    "# Circular : \n",
    "#          3CM , 5CM, 0.009 CM\n",
    "#          STD, Entropy, (Std, Entropy)\n",
    "\n",
    "# FEATURES = ['max_STD']\n",
    "# FEATURES = ['max_Entropy']\n",
    "FEATURES = ['max_STD', 'avg_value', 'GT']\n",
    "\n",
    "DISTANCE = 0.03\n",
    "\n",
    "feats = \"_\".join([i.split(\"_\")[-1].upper() for i in FEATURES])\n",
    "EXP_NAME = feats+\"_\"+str(DISTANCE)+\"_CM\"\n",
    "\n",
    "try:\n",
    "    if not os.path.isdir(os.path.join(\"../\", DIR, SAMPLING, EXP_NAME)):\n",
    "        os.makedirs(os.path.join(\"../\",DIR, SAMPLING, EXP_NAME))\n",
    "except:\n",
    "    print(\"Folder Exist\")\n",
    "\n",
    "accuracy_curve = []\n",
    "\n",
    "for img_num in range(1, 101):\n",
    "    # FOLDER_NAME = \"IMAGE_NUM_\"+str(img_num)\n",
    "    if img_num == 100:\n",
    "        DISTANCE = 0.029\n",
    "    X, y  = data_loader(SAMPLING, img_num)\n",
    "    X_train, X_test, y_train, y_test = train_test_split(X, y, test_size=0.2, random_state=42)\n",
    "\n",
    "    # X_test.to_csv('../out/TopDown/mona.csv')\n",
    "    image = np.zeros((1024, 1024))\n",
    "    for i in range(len(X_test)):\n",
    "        X = int(X_test.iloc[i]['x'])\n",
    "        Y = int(X_test.iloc[i]['y'])\n",
    "        image[X, Y] = int(X_test.iloc[i]['label'])\n",
    "    \n",
    "    cv2.imwrite(os.path.join(\"../\", DIR, SAMPLING, EXP_NAME, f\"{img_num}.png\"), image * 255)\n",
    "    # cv2.imwrite('../out/TopDown/mona.png', image * 255)"
   ]
  },
  {
   "cell_type": "markdown",
   "metadata": {},
   "source": [
    "## Compute accuracy for used pixels in testing - the 1024x1024 spatial dimension is not included"
   ]
  },
  {
   "cell_type": "code",
   "execution_count": 56,
   "metadata": {},
   "outputs": [],
   "source": [
    "import cv2\n",
    "\n",
    "DIR = \"out\"\n",
    "SAMPLING = \"TopDown\"\n",
    "FEATURES = ['max_STD']\n",
    "\n",
    "DISTANCE = 0.03\n",
    "\n",
    "feats = \"_\".join([i.split(\"_\")[-1].upper() for i in FEATURES])\n",
    "EXP_NAME = feats+\"_\"+str(DISTANCE)+\"_CM\"\n",
    "\n",
    "try:\n",
    "    if not os.path.isdir(os.path.join(\"../\", DIR, SAMPLING, EXP_NAME)):\n",
    "        os.makedirs(os.path.join(\"../\",DIR, SAMPLING, EXP_NAME))\n",
    "except:\n",
    "    print(\"Folder Exist\")\n",
    "\n",
    "all_labels = []\n",
    "all_preds = []\n",
    "\n",
    "for img_num in range(1, 101):\n",
    "    # FOLDER_NAME = \"IMAGE_NUM_\"+str(img_num)\n",
    "    IMAGE_NAME = str(img_num)+\".png\"\n",
    "    if img_num == 100:\n",
    "        DISTANCE = 0.029\n",
    "    X, y  = data_loader(SAMPLING, img_num)\n",
    "    X_train, X_test, y_train, y_test = train_test_split(X, y, test_size=0.2, random_state=42)\n",
    "    pred_image = cv2.imread(os.path.join(\"../\",DIR, SAMPLING, EXP_NAME, IMAGE_NAME), cv2.IMREAD_GRAYSCALE) / 255\n",
    "    \n",
    "    for i in range(len(X_test)):\n",
    "        X = int(X_test.iloc[i]['x'])\n",
    "        Y = int(X_test.iloc[i]['y'])\n",
    "        all_labels.append(int(X_test.iloc[i]['label']))\n",
    "        all_preds.append(int(pred_image[X, Y]))\n",
    "        # print(X, Y, int(pred_image[X, Y]), int(X_test.iloc[i]['label']), os.path.join(\"../\",DIR, SAMPLING, EXP_NAME, IMAGE_NAME))\n",
    "\n"
   ]
  },
  {
   "cell_type": "code",
   "execution_count": 57,
   "metadata": {},
   "outputs": [
    {
     "name": "stdout",
     "output_type": "stream",
     "text": [
      "0.7283542079995153\n"
     ]
    }
   ],
   "source": [
    "    \n",
    "accuracy = (np.array(all_labels) == np.array(all_preds) ).sum() / len(all_preds)\n",
    "print(accuracy)"
   ]
  },
  {
   "cell_type": "code",
   "execution_count": null,
   "metadata": {},
   "outputs": [
    {
     "name": "stdout",
     "output_type": "stream",
     "text": [
      "792348\n"
     ]
    }
   ],
   "source": [
    "# STD + AVG = 73.2%\n",
    "# STD + Entropy = 73.6%\n",
    "# STD = %"
   ]
  },
  {
   "cell_type": "code",
   "execution_count": 50,
   "metadata": {},
   "outputs": [
    {
     "name": "stdout",
     "output_type": "stream",
     "text": [
      "[0, 0, 0, 0, 0, 1, 0, 1, 1, 0, 1, 1, 1, 1, 0, 0, 0, 0, 0, 0]\n",
      "[0, 0, 0, 0, 0, 0, 1, 1, 1, 1, 0, 1, 1, 0, 1, 0, 0, 0, 1, 0]\n"
     ]
    }
   ],
   "source": [
    "print(all_labels[:20])\n",
    "print(all_preds[:20])"
   ]
  }
 ],
 "metadata": {
  "kernelspec": {
   "display_name": "Python 3",
   "language": "python",
   "name": "python3"
  },
  "language_info": {
   "codemirror_mode": {
    "name": "ipython",
    "version": 3
   },
   "file_extension": ".py",
   "mimetype": "text/x-python",
   "name": "python",
   "nbconvert_exporter": "python",
   "pygments_lexer": "ipython3",
   "version": "3.9.18"
  }
 },
 "nbformat": 4,
 "nbformat_minor": 2
}
